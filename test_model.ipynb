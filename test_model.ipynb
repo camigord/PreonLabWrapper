{
 "cells": [
  {
   "cell_type": "code",
   "execution_count": 1,
   "metadata": {
    "collapsed": false
   },
   "outputs": [],
   "source": [
    "import preonpy\n",
    "import numpy as np\n",
    "from copy import deepcopy\n",
    "\n",
    "from utils.options import Options\n",
    "from env.preon_env import Preon_env\n",
    "from agent.ddpg import DDPG\n",
    "from utils.memory import ReplayMemory\n",
    "from agent.evaluator import Evaluator\n",
    "from utils.util import *"
   ]
  },
  {
   "cell_type": "code",
   "execution_count": 2,
   "metadata": {
    "collapsed": true
   },
   "outputs": [],
   "source": [
    "episode_memory = ReplayMemory(100)\n",
    "episode_memory.push([0,0],[0,0],[1,1],[1,1],0,True)\n",
    "episode_memory.push([0,1],[0,0],[10,1],[0,1],1,True)\n",
    "episode_memory.push([0,2],[1,0],[1,10],[1,0],0,False)"
   ]
  },
  {
   "cell_type": "code",
   "execution_count": 3,
   "metadata": {
    "collapsed": false
   },
   "outputs": [
    {
     "data": {
      "text/plain": [
       "[Transition(state=[0, 0], goal=[0, 0], action=[1, 1], next_state=[1, 1], reward=0, terminal=True),\n",
       " Transition(state=[0, 2], goal=[1, 0], action=[1, 10], next_state=[1, 0], reward=0, terminal=False)]"
      ]
     },
     "execution_count": 3,
     "metadata": {},
     "output_type": "execute_result"
    }
   ],
   "source": [
    "transitions = episode_memory.sample(2)\n",
    "transitions"
   ]
  },
  {
   "cell_type": "code",
   "execution_count": 4,
   "metadata": {
    "collapsed": false
   },
   "outputs": [
    {
     "data": {
      "text/plain": [
       "Transition(state=([0, 0], [0, 2]), goal=([0, 0], [1, 0]), action=([1, 1], [1, 10]), next_state=([1, 1], [1, 0]), reward=(0, 0), terminal=(True, False))"
      ]
     },
     "execution_count": 4,
     "metadata": {},
     "output_type": "execute_result"
    }
   ],
   "source": [
    "from collections import namedtuple\n",
    "Transition = namedtuple('Transition', ('state', 'goal', 'action', 'next_state', 'reward', 'terminal'))\n",
    "batch = Transition(*zip(*transitions))\n",
    "batch"
   ]
  },
  {
   "cell_type": "code",
   "execution_count": 5,
   "metadata": {
    "collapsed": false
   },
   "outputs": [
    {
     "data": {
      "text/plain": [
       "array([[0, 0],\n",
       "       [0, 2]])"
      ]
     },
     "execution_count": 5,
     "metadata": {},
     "output_type": "execute_result"
    }
   ],
   "source": [
    "np.array(batch.state)"
   ]
  },
  {
   "cell_type": "code",
   "execution_count": 8,
   "metadata": {
    "collapsed": false
   },
   "outputs": [
    {
     "data": {
      "text/plain": [
       "Variable containing:\n",
       " 0  0\n",
       " 0  2\n",
       "[torch.LongTensor of size 2x2]"
      ]
     },
     "execution_count": 8,
     "metadata": {},
     "output_type": "execute_result"
    }
   ],
   "source": [
    "Variable(torch.from_numpy(np.array(batch.state)))"
   ]
  },
  {
   "cell_type": "code",
   "execution_count": 2,
   "metadata": {
    "collapsed": false
   },
   "outputs": [],
   "source": [
    "opt = Options()\n",
    "env = Preon_env(opt.env_params)\n",
    "agent = DDPG(opt.agent_params)\n",
    "evaluate = Evaluator(opt.agent_params)"
   ]
  },
  {
   "cell_type": "code",
   "execution_count": 3,
   "metadata": {
    "collapsed": true
   },
   "outputs": [],
   "source": [
    "def generate_new_goal(args):\n",
    "    desired_vol = float(np.random.randint(0,args.max_volume + 1))   # Generate random expected volume.\n",
    "    new_goal = [desired_vol, 0.0]\n",
    "    return new_goal"
   ]
  },
  {
   "cell_type": "code",
   "execution_count": 4,
   "metadata": {
    "collapsed": false
   },
   "outputs": [
    {
     "name": "stdout",
     "output_type": "stream",
     "text": [
      "[183.0, 0.0]\n"
     ]
    }
   ],
   "source": [
    "agent.is_training = True\n",
    "goal = generate_new_goal(opt.agent_params)\n",
    "print(goal)"
   ]
  },
  {
   "cell_type": "code",
   "execution_count": 5,
   "metadata": {
    "collapsed": false
   },
   "outputs": [
    {
     "name": "stdout",
     "output_type": "stream",
     "text": [
      "Started simulation from frame 0 to frame 2 with 8 thread(s).\n",
      "Done simulating  2  frames.\n",
      "(0.0, 12.0, 0.0, 0.0, 0.0)\n"
     ]
    }
   ],
   "source": [
    "observation, _ = deepcopy(env.reset())\n",
    "agent.reset(observation)\n",
    "print(observation)"
   ]
  },
  {
   "cell_type": "code",
   "execution_count": 6,
   "metadata": {
    "collapsed": false
   },
   "outputs": [
    {
     "name": "stdout",
     "output_type": "stream",
     "text": [
      "('action:', array([ 1., -1.,  1.]))\n"
     ]
    }
   ],
   "source": [
    "action = to_numpy(agent.actor(to_tensor(np.array([observation])),to_tensor(np.array([goal])))).squeeze(0)\n",
    "action = agent.add_noise_to_action(action)\n",
    "action = np.clip(action, -1., 1.)\n",
    "agent.a_t = action\n",
    "print(\"action:\", action)"
   ]
  },
  {
   "cell_type": "markdown",
   "metadata": {},
   "source": [
    "### Execute action in environment"
   ]
  },
  {
   "cell_type": "code",
   "execution_count": 7,
   "metadata": {
    "collapsed": false
   },
   "outputs": [],
   "source": [
    "observation2, reward, done, info = env.step(action, goal)\n",
    "observation2 = deepcopy(observation2)"
   ]
  },
  {
   "cell_type": "code",
   "execution_count": 8,
   "metadata": {
    "collapsed": true
   },
   "outputs": [],
   "source": [
    "agent.observe(goal, reward, observation2, done)"
   ]
  },
  {
   "cell_type": "code",
   "execution_count": 9,
   "metadata": {
    "collapsed": false
   },
   "outputs": [
    {
     "data": {
      "text/plain": [
       "[Transition(state=(0.0, 12.0, 0.0, 0.0, 0.0), goal=[183.0, 0.0], action=array([ 1., -1.,  1.]), next_state=(0.0, 12.0, 0.0, 0.0, 0.0), reward=-1.0, terminal=False)]"
      ]
     },
     "execution_count": 9,
     "metadata": {},
     "output_type": "execute_result"
    }
   ],
   "source": [
    "agent.memory.memory"
   ]
  },
  {
   "cell_type": "code",
   "execution_count": 16,
   "metadata": {
    "collapsed": false
   },
   "outputs": [],
   "source": [
    "agent.a_t"
   ]
  },
  {
   "cell_type": "code",
   "execution_count": null,
   "metadata": {
    "collapsed": true
   },
   "outputs": [],
   "source": []
  }
 ],
 "metadata": {
  "kernelspec": {
   "display_name": "Python 2",
   "language": "python",
   "name": "python2"
  },
  "language_info": {
   "codemirror_mode": {
    "name": "ipython",
    "version": 2
   },
   "file_extension": ".py",
   "mimetype": "text/x-python",
   "name": "python",
   "nbconvert_exporter": "python",
   "pygments_lexer": "ipython2",
   "version": "2.7.13"
  }
 },
 "nbformat": 4,
 "nbformat_minor": 2
}
