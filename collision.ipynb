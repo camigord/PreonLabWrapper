{
 "cells": [
  {
   "cell_type": "code",
   "execution_count": 1,
   "metadata": {
    "collapsed": true
   },
   "outputs": [],
   "source": [
    "import numpy as np"
   ]
  },
  {
   "cell_type": "code",
   "execution_count": 6,
   "metadata": {
    "collapsed": true
   },
   "outputs": [],
   "source": [
    "def collide(p1, p2):\n",
    "    '''\n",
    "    Return True if collition is detected\n",
    "\n",
    "    p1 and p2 are lists of ordered pairs, the vertices of the polygons in the\n",
    "    counterclockwise direction.\n",
    "    '''\n",
    "\n",
    "    p1 = [np.array(v, 'float64') for v in p1]\n",
    "    p2 = [np.array(v, 'float64') for v in p2]\n",
    "\n",
    "    edges = edges_of(p1)\n",
    "    edges += edges_of(p2)\n",
    "    orthogonals = [orthogonal(e) for e in edges]\n",
    "\n",
    "    push_vectors = []\n",
    "    for o in orthogonals:\n",
    "        separates = is_separating_axis(o, p1, p2)\n",
    "\n",
    "        if separates:\n",
    "            return False\n",
    "        else:\n",
    "            continue\n",
    "\n",
    "    return True\n",
    "\n",
    "def is_separating_axis(o, p1, p2):\n",
    "    \"\"\"\n",
    "    Return True and the push vector if o is a separating axis of p1 and p2.\n",
    "    Otherwise, return False and None.\n",
    "    \"\"\"\n",
    "    min1, max1 = float('+inf'), float('-inf')\n",
    "    min2, max2 = float('+inf'), float('-inf')\n",
    "\n",
    "    for v in p1:\n",
    "        projection = np.dot(v, o)\n",
    "\n",
    "        min1 = min(min1, projection)\n",
    "        max1 = max(max1, projection)\n",
    "\n",
    "    for v in p2:\n",
    "        projection = np.dot(v, o)\n",
    "\n",
    "        min2 = min(min2, projection)\n",
    "        max2 = max(max2, projection)\n",
    "\n",
    "    if max1 >= min2 and max2 >= min1:\n",
    "        return False\n",
    "    else:\n",
    "        return True\n",
    "    \n",
    "def edges_of(vertices):\n",
    "    \"\"\"\n",
    "    Return the vectors for the edges of the polygon p.\n",
    "\n",
    "    p is a polygon.\n",
    "    \"\"\"\n",
    "    edges = []\n",
    "    N = len(vertices)\n",
    "\n",
    "    for i in range(N):\n",
    "        edge = vertices[(i + 1)%N] - vertices[i]\n",
    "        edges.append(edge)\n",
    "\n",
    "    return edges\n",
    "\n",
    "def orthogonal(v):\n",
    "    \"\"\"\n",
    "    Return a 90 degree clockwise rotation of the vector v.\n",
    "    \"\"\"\n",
    "    return np.array([-v[1], v[0]])"
   ]
  },
  {
   "cell_type": "code",
   "execution_count": 10,
   "metadata": {
    "collapsed": false
   },
   "outputs": [
    {
     "name": "stdout",
     "output_type": "stream",
     "text": [
      "False\n"
     ]
    }
   ],
   "source": [
    "p1 = [(1,4),(2,4),(2,3),(1,3)]\n",
    "p2 = [(2.5,3.5),(3.5,3.5),(3.5,2),(2.5,2)]\n",
    "\n",
    "print(collide(p1,p2))"
   ]
  },
  {
   "cell_type": "code",
   "execution_count": null,
   "metadata": {
    "collapsed": true
   },
   "outputs": [],
   "source": []
  }
 ],
 "metadata": {
  "kernelspec": {
   "display_name": "Python 2",
   "language": "python",
   "name": "python2"
  },
  "language_info": {
   "codemirror_mode": {
    "name": "ipython",
    "version": 2
   },
   "file_extension": ".py",
   "mimetype": "text/x-python",
   "name": "python",
   "nbconvert_exporter": "python",
   "pygments_lexer": "ipython2",
   "version": "2.7.13"
  }
 },
 "nbformat": 4,
 "nbformat_minor": 2
}
