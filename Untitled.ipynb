{
 "cells": [
  {
   "cell_type": "code",
   "execution_count": 1,
   "metadata": {
    "collapsed": true
   },
   "outputs": [],
   "source": [
    "import preonpy\n",
    "import numpy as np\n",
    "import glob"
   ]
  },
  {
   "cell_type": "code",
   "execution_count": 2,
   "metadata": {
    "collapsed": false
   },
   "outputs": [
    {
     "data": {
      "text/plain": [
       "['training_scenes/scene0.prscene',\n",
       " 'training_scenes/scene1.prscene',\n",
       " 'training_scenes/scene2.prscene',\n",
       " 'training_scenes/scene3.prscene',\n",
       " 'training_scenes/scene4.prscene',\n",
       " 'training_scenes/scene5.prscene']"
      ]
     },
     "execution_count": 2,
     "metadata": {},
     "output_type": "execute_result"
    }
   ],
   "source": [
    "scene_paths = glob.glob(\"training_scenes/*.prscene\")\n",
    "scene_paths.sort()\n",
    "scene_paths"
   ]
  },
  {
   "cell_type": "code",
   "execution_count": 3,
   "metadata": {
    "collapsed": false
   },
   "outputs": [
    {
     "name": "stdout",
     "output_type": "stream",
     "text": [
      "scene1\n"
     ]
    }
   ],
   "source": [
    "scene_path = np.random.choice(scene_paths)\n",
    "scene_name = scene_path.split(\"/\")[1].split(\".\")[0]\n",
    "print(scene_name)"
   ]
  },
  {
   "cell_type": "code",
   "execution_count": 4,
   "metadata": {
    "collapsed": true
   },
   "outputs": [],
   "source": [
    "coordinates = {'scene0': [15,10,5], \n",
    "               'scene1': [14,10,4],\n",
    "               'scene2': [13,20,3],\n",
    "               'scene3': [13,12,3],\n",
    "               'scene4': [15,14,4],\n",
    "               'scene5': [13.5,5,3.5]}"
   ]
  },
  {
   "cell_type": "code",
   "execution_count": 5,
   "metadata": {
    "collapsed": false
   },
   "outputs": [],
   "source": [
    "preonpy.show_progressbar = False\n",
    "scene = preonpy.Scene(scene_path)"
   ]
  },
  {
   "cell_type": "code",
   "execution_count": 6,
   "metadata": {
    "collapsed": false
   },
   "outputs": [
    {
     "data": {
      "text/plain": [
       "[14, 10, 4]"
      ]
     },
     "execution_count": 6,
     "metadata": {},
     "output_type": "execute_result"
    }
   ],
   "source": [
    "ring_coordinates = coordinates[scene_name]\n",
    "ring_coordinates"
   ]
  },
  {
   "cell_type": "code",
   "execution_count": 7,
   "metadata": {
    "collapsed": true
   },
   "outputs": [],
   "source": [
    "# Load scene objects\n",
    "solver = scene.find_object(\"PreonSolver_1\")\n",
    "sensor_cup1 = scene.find_object(\"Sensor_Cup1\")\n",
    "sensor_cup2 = scene.find_object(\"Sensor_Cup2\")\n",
    "cup1 = scene.find_object(\"source\")\n",
    "cup2 = scene.find_object(\"Cup2\")\n",
    "Box = scene.find_object(\"BoxDomain_1\")"
   ]
  },
  {
   "cell_type": "markdown",
   "metadata": {
    "collapsed": true
   },
   "source": [
    "## Randomly relocate container"
   ]
  },
  {
   "cell_type": "code",
   "execution_count": 8,
   "metadata": {
    "collapsed": false
   },
   "outputs": [
    {
     "data": {
      "text/plain": [
       "array([ 14.,   0.,   0.])"
      ]
     },
     "execution_count": 8,
     "metadata": {},
     "output_type": "execute_result"
    }
   ],
   "source": [
    "cup2_pos = np.round(np.array(cup2.__getitem__(\"position\"))  *100, decimals = 2) # x,y,z in cm\n",
    "cup2_pos"
   ]
  },
  {
   "cell_type": "code",
   "execution_count": 9,
   "metadata": {
    "collapsed": false
   },
   "outputs": [],
   "source": [
    "height = ring_coordinates[1]   # In centimeters\n",
    "real_radius = ring_coordinates[0] - 10   # 10 cm is the distance to right boundarie where objects are originally placed\n",
    "\n",
    "cup2_pos = np.round(np.array(cup2.__getitem__(\"position\"))  *100, decimals = 2) # x,y,z in cm\n",
    "sensor_cup2_pos = np.round(np.array(sensor_cup2.__getitem__(\"position\"))  *100, decimals = 2) # x,y,z in cm\n",
    "max_delta_x = 30 - real_radius - cup2_pos[0]\n",
    "max_delta_z = 20 - height"
   ]
  },
  {
   "cell_type": "code",
   "execution_count": 10,
   "metadata": {
    "collapsed": false
   },
   "outputs": [
    {
     "name": "stdout",
     "output_type": "stream",
     "text": [
      "12.0 10\n"
     ]
    }
   ],
   "source": [
    "delta_x = max_delta_x\n",
    "delta_z = max_delta_z\n",
    "print(delta_x, delta_z)"
   ]
  },
  {
   "cell_type": "code",
   "execution_count": 11,
   "metadata": {
    "collapsed": false
   },
   "outputs": [],
   "source": [
    "new_pos = (cup2_pos + [delta_x, 0, delta_z]) / 100\n",
    "cup2.__setitem__(\"position\", new_pos)\n",
    "new_pos = (sensor_cup2_pos + [delta_x, 0, delta_z]) / 100\n",
    "sensor_cup2.__setitem__(\"position\", new_pos)"
   ]
  },
  {
   "cell_type": "code",
   "execution_count": 12,
   "metadata": {
    "collapsed": false
   },
   "outputs": [],
   "source": [
    "import os\n",
    "\n",
    "scene.save(os.getcwd()+\"/delete_this_too_also.prscene\")"
   ]
  },
  {
   "cell_type": "code",
   "execution_count": 4,
   "metadata": {
    "collapsed": false
   },
   "outputs": [
    {
     "name": "stdout",
     "output_type": "stream",
     "text": [
      "Started simulation from frame 0 to frame 25 with 8 thread(s).\n",
      "Done simulating  25  frames.\n"
     ]
    }
   ],
   "source": [
    "scene.simulate(0, 25)"
   ]
  },
  {
   "cell_type": "code",
   "execution_count": 6,
   "metadata": {
    "collapsed": false
   },
   "outputs": [
    {
     "data": {
      "text/plain": [
       "5.0"
      ]
     },
     "execution_count": 6,
     "metadata": {},
     "output_type": "execute_result"
    }
   ],
   "source": [
    "scene.elapsed_time"
   ]
  },
  {
   "cell_type": "code",
   "execution_count": 13,
   "metadata": {
    "collapsed": false
   },
   "outputs": [
    {
     "data": {
      "text/plain": [
       "[26.0, 20, 4]"
      ]
     },
     "execution_count": 13,
     "metadata": {},
     "output_type": "execute_result"
    }
   ],
   "source": [
    "[ring_coordinates[0]+delta_x, ring_coordinates[1]+delta_z, ring_coordinates[2]]"
   ]
  },
  {
   "cell_type": "code",
   "execution_count": null,
   "metadata": {
    "collapsed": true
   },
   "outputs": [],
   "source": []
  }
 ],
 "metadata": {
  "kernelspec": {
   "display_name": "Python 3",
   "language": "python",
   "name": "python3"
  },
  "language_info": {
   "codemirror_mode": {
    "name": "ipython",
    "version": 3
   },
   "file_extension": ".py",
   "mimetype": "text/x-python",
   "name": "python",
   "nbconvert_exporter": "python",
   "pygments_lexer": "ipython3",
   "version": "3.5.3"
  }
 },
 "nbformat": 4,
 "nbformat_minor": 1
}
