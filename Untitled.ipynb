{
 "cells": [
  {
   "cell_type": "code",
   "execution_count": 1,
   "metadata": {
    "collapsed": true
   },
   "outputs": [],
   "source": [
    "import preonpy\n",
    "import numpy as np\n",
    "import glob"
   ]
  },
  {
   "cell_type": "code",
   "execution_count": 2,
   "metadata": {
    "collapsed": true
   },
   "outputs": [],
   "source": [
    "episode_trajectory = []\n",
    "\n",
    "s_dim = 5\n",
    "goal_dim = 2\n",
    "a_dim = 3\n",
    "\n",
    "state = [1,2,3,4,5]\n",
    "goal = [10,20]\n",
    "action = [0, 1, -1]\n",
    "r = 50\n",
    "terminal = False\n",
    "next_state = [9, 8, 7, 6, 5]\n",
    "transition = [np.reshape(state, (s_dim,)), np.reshape(goal, (goal_dim,)),\n",
    "              np.reshape(action, (a_dim,)), r, terminal, np.reshape(next_state, (s_dim,))]\n",
    "\n",
    "for i in range(5):\n",
    "    episode_trajectory.append(transition)"
   ]
  },
  {
   "cell_type": "code",
   "execution_count": 3,
   "metadata": {
    "collapsed": false
   },
   "outputs": [
    {
     "data": {
      "text/plain": [
       "[array([6, 5]), array([6, 5]), array([6, 5]), array([6, 5]), array([6, 5])]"
      ]
     },
     "execution_count": 3,
     "metadata": {},
     "output_type": "execute_result"
    }
   ],
   "source": [
    "temp = []\n",
    "for a in episode_trajectory:\n",
    "    temp.append(a[-1][3:5])\n",
    "    \n",
    "temp"
   ]
  },
  {
   "cell_type": "code",
   "execution_count": 8,
   "metadata": {
    "collapsed": false
   },
   "outputs": [
    {
     "name": "stdout",
     "output_type": "stream",
     "text": [
      "a\n"
     ]
    },
    {
     "data": {
      "text/plain": [
       "array([6, 5])"
      ]
     },
     "execution_count": 8,
     "metadata": {},
     "output_type": "execute_result"
    }
   ],
   "source": [
    "if temp[0].tolist() == temp[1].tolist():\n",
    "    print('a')\n",
    "\n",
    "temp[0]"
   ]
  },
  {
   "cell_type": "code",
   "execution_count": 30,
   "metadata": {
    "collapsed": false
   },
   "outputs": [
    {
     "data": {
      "text/plain": [
       "5"
      ]
     },
     "execution_count": 30,
     "metadata": {},
     "output_type": "execute_result"
    }
   ],
   "source": [
    "dict_state = {'fill_level': 5,\n",
    "              'spillage': -6,\n",
    "              'other': 5}\n",
    "\n",
    "dict_state['fill_level']"
   ]
  },
  {
   "cell_type": "code",
   "execution_count": 2,
   "metadata": {
    "collapsed": false
   },
   "outputs": [
    {
     "data": {
      "text/plain": [
       "['training_scenes/scene0.prscene',\n",
       " 'training_scenes/scene1.prscene',\n",
       " 'training_scenes/scene2.prscene',\n",
       " 'training_scenes/scene3.prscene',\n",
       " 'training_scenes/scene4.prscene',\n",
       " 'training_scenes/scene5.prscene']"
      ]
     },
     "execution_count": 2,
     "metadata": {},
     "output_type": "execute_result"
    }
   ],
   "source": [
    "scene_paths = glob.glob(\"training_scenes/*.prscene\")\n",
    "scene_paths.sort()\n",
    "scene_paths"
   ]
  },
  {
   "cell_type": "code",
   "execution_count": 3,
   "metadata": {
    "collapsed": false
   },
   "outputs": [
    {
     "name": "stdout",
     "output_type": "stream",
     "text": [
      "scene1\n"
     ]
    }
   ],
   "source": [
    "scene_path = np.random.choice(scene_paths)\n",
    "scene_name = scene_path.split(\"/\")[1].split(\".\")[0]\n",
    "print(scene_name)"
   ]
  },
  {
   "cell_type": "code",
   "execution_count": 4,
   "metadata": {
    "collapsed": true
   },
   "outputs": [],
   "source": [
    "coordinates = {'scene0': [15,10,5], \n",
    "               'scene1': [14,10,4],\n",
    "               'scene2': [13,20,3],\n",
    "               'scene3': [13,12,3],\n",
    "               'scene4': [15,14,4],\n",
    "               'scene5': [13.5,5,3.5]}"
   ]
  },
  {
   "cell_type": "code",
   "execution_count": 5,
   "metadata": {
    "collapsed": false
   },
   "outputs": [],
   "source": [
    "preonpy.show_progressbar = False\n",
    "scene = preonpy.Scene(scene_path)"
   ]
  },
  {
   "cell_type": "code",
   "execution_count": 6,
   "metadata": {
    "collapsed": false
   },
   "outputs": [
    {
     "data": {
      "text/plain": [
       "[14, 10, 4]"
      ]
     },
     "execution_count": 6,
     "metadata": {},
     "output_type": "execute_result"
    }
   ],
   "source": [
    "ring_coordinates = coordinates[scene_name]\n",
    "ring_coordinates"
   ]
  },
  {
   "cell_type": "code",
   "execution_count": 7,
   "metadata": {
    "collapsed": true
   },
   "outputs": [],
   "source": [
    "# Load scene objects\n",
    "solver = scene.find_object(\"PreonSolver_1\")\n",
    "sensor_cup1 = scene.find_object(\"Sensor_Cup1\")\n",
    "sensor_cup2 = scene.find_object(\"Sensor_Cup2\")\n",
    "cup1 = scene.find_object(\"source\")\n",
    "cup2 = scene.find_object(\"Cup2\")\n",
    "Box = scene.find_object(\"BoxDomain_1\")"
   ]
  },
  {
   "cell_type": "markdown",
   "metadata": {
    "collapsed": true
   },
   "source": [
    "## Randomly relocate container"
   ]
  },
  {
   "cell_type": "code",
   "execution_count": 8,
   "metadata": {
    "collapsed": false
   },
   "outputs": [
    {
     "data": {
      "text/plain": [
       "array([ 14.,   0.,   0.])"
      ]
     },
     "execution_count": 8,
     "metadata": {},
     "output_type": "execute_result"
    }
   ],
   "source": [
    "cup2_pos = np.round(np.array(cup2.__getitem__(\"position\"))  *100, decimals = 2) # x,y,z in cm\n",
    "cup2_pos"
   ]
  },
  {
   "cell_type": "code",
   "execution_count": 9,
   "metadata": {
    "collapsed": false
   },
   "outputs": [],
   "source": [
    "height = ring_coordinates[1]   # In centimeters\n",
    "real_radius = ring_coordinates[0] - 10   # 10 cm is the distance to right boundarie where objects are originally placed\n",
    "\n",
    "cup2_pos = np.round(np.array(cup2.__getitem__(\"position\"))  *100, decimals = 2) # x,y,z in cm\n",
    "sensor_cup2_pos = np.round(np.array(sensor_cup2.__getitem__(\"position\"))  *100, decimals = 2) # x,y,z in cm\n",
    "max_delta_x = 30 - real_radius - cup2_pos[0]\n",
    "max_delta_z = 20 - height"
   ]
  },
  {
   "cell_type": "code",
   "execution_count": 10,
   "metadata": {
    "collapsed": false
   },
   "outputs": [
    {
     "name": "stdout",
     "output_type": "stream",
     "text": [
      "12.0 10\n"
     ]
    }
   ],
   "source": [
    "delta_x = max_delta_x\n",
    "delta_z = max_delta_z\n",
    "print(delta_x, delta_z)"
   ]
  },
  {
   "cell_type": "code",
   "execution_count": 11,
   "metadata": {
    "collapsed": false
   },
   "outputs": [],
   "source": [
    "new_pos = (cup2_pos + [delta_x, 0, delta_z]) / 100\n",
    "cup2.__setitem__(\"position\", new_pos)\n",
    "new_pos = (sensor_cup2_pos + [delta_x, 0, delta_z]) / 100\n",
    "sensor_cup2.__setitem__(\"position\", new_pos)"
   ]
  },
  {
   "cell_type": "code",
   "execution_count": 12,
   "metadata": {
    "collapsed": false
   },
   "outputs": [],
   "source": [
    "import os\n",
    "\n",
    "scene.save(os.getcwd()+\"/delete_this_too_also.prscene\")"
   ]
  },
  {
   "cell_type": "code",
   "execution_count": 4,
   "metadata": {
    "collapsed": false
   },
   "outputs": [
    {
     "name": "stdout",
     "output_type": "stream",
     "text": [
      "Started simulation from frame 0 to frame 25 with 8 thread(s).\n",
      "Done simulating  25  frames.\n"
     ]
    }
   ],
   "source": [
    "scene.simulate(0, 25)"
   ]
  },
  {
   "cell_type": "code",
   "execution_count": 6,
   "metadata": {
    "collapsed": false
   },
   "outputs": [
    {
     "data": {
      "text/plain": [
       "5.0"
      ]
     },
     "execution_count": 6,
     "metadata": {},
     "output_type": "execute_result"
    }
   ],
   "source": [
    "scene.elapsed_time"
   ]
  },
  {
   "cell_type": "code",
   "execution_count": 13,
   "metadata": {
    "collapsed": false
   },
   "outputs": [
    {
     "data": {
      "text/plain": [
       "[26.0, 20, 4]"
      ]
     },
     "execution_count": 13,
     "metadata": {},
     "output_type": "execute_result"
    }
   ],
   "source": [
    "[ring_coordinates[0]+delta_x, ring_coordinates[1]+delta_z, ring_coordinates[2]]"
   ]
  },
  {
   "cell_type": "code",
   "execution_count": 1,
   "metadata": {
    "collapsed": true
   },
   "outputs": [],
   "source": [
    "from utils.replay_buffer_trace import ReplayBufferTrace\n",
    "import numpy as np\n",
    "import random"
   ]
  },
  {
   "cell_type": "code",
   "execution_count": 2,
   "metadata": {
    "collapsed": true
   },
   "outputs": [],
   "source": [
    "save_dir = \"./here\"\n",
    "trace_length = 7"
   ]
  },
  {
   "cell_type": "code",
   "execution_count": 44,
   "metadata": {
    "collapsed": true
   },
   "outputs": [],
   "source": [
    "memory = ReplayBufferTrace(20, trace_length, save_dir)\n",
    "\n",
    "for e in range(20):\n",
    "    episode = []\n",
    "    for i in range(10):\n",
    "        state = [2, 3, 50, 50, i]\n",
    "        action = [1, 0, 0]\n",
    "        goal = [2, 4]\n",
    "        experience = [state, goal, action, i, False, state]\n",
    "        episode.append(experience)\n",
    "        \n",
    "    memory.add(episode)"
   ]
  },
  {
   "cell_type": "code",
   "execution_count": 45,
   "metadata": {
    "collapsed": false
   },
   "outputs": [
    {
     "data": {
      "text/plain": [
       "(5, 7, 6)"
      ]
     },
     "execution_count": 45,
     "metadata": {},
     "output_type": "execute_result"
    }
   ],
   "source": [
    "batch = memory.sample_batch(5)\n",
    "batch.shape"
   ]
  },
  {
   "cell_type": "code",
   "execution_count": 46,
   "metadata": {
    "collapsed": false
   },
   "outputs": [
    {
     "data": {
      "text/plain": [
       "[2, 3, 50, 50, 2]"
      ]
     },
     "execution_count": 46,
     "metadata": {},
     "output_type": "execute_result"
    }
   ],
   "source": [
    "batch[0][0][0]"
   ]
  },
  {
   "cell_type": "code",
   "execution_count": 47,
   "metadata": {
    "collapsed": false
   },
   "outputs": [
    {
     "name": "stdout",
     "output_type": "stream",
     "text": [
      "[[[False]\n",
      "  [False]\n",
      "  [False]\n",
      "  [False]\n",
      "  [False]\n",
      "  [False]\n",
      "  [False]]\n",
      "\n",
      " [[False]\n",
      "  [False]\n",
      "  [False]\n",
      "  [False]\n",
      "  [False]\n",
      "  [False]\n",
      "  [False]]\n",
      "\n",
      " [[False]\n",
      "  [False]\n",
      "  [False]\n",
      "  [False]\n",
      "  [False]\n",
      "  [False]\n",
      "  [False]]\n",
      "\n",
      " [[False]\n",
      "  [False]\n",
      "  [False]\n",
      "  [False]\n",
      "  [False]\n",
      "  [False]\n",
      "  [False]]\n",
      "\n",
      " [[False]\n",
      "  [False]\n",
      "  [False]\n",
      "  [False]\n",
      "  [False]\n",
      "  [False]\n",
      "  [False]]]\n",
      "(5, 7, 1)\n",
      "[[False]\n",
      " [False]\n",
      " [False]\n",
      " [False]\n",
      " [False]]\n"
     ]
    }
   ],
   "source": [
    "a = np.stack(batch[:,:,4].ravel()).reshape(5,7,1)\n",
    "print(a)\n",
    "print(a.shape)\n",
    "print(a[:,-1,])"
   ]
  },
  {
   "cell_type": "code",
   "execution_count": 3,
   "metadata": {
    "collapsed": false
   },
   "outputs": [
    {
     "name": "stdout",
     "output_type": "stream",
     "text": [
      "Successfuly saved: RDPG Buffer\n",
      "Buffer length saved: 20\n"
     ]
    }
   ],
   "source": [
    "memory.save_pickle()"
   ]
  },
  {
   "cell_type": "code",
   "execution_count": 3,
   "metadata": {
    "collapsed": false
   },
   "outputs": [
    {
     "name": "stdout",
     "output_type": "stream",
     "text": [
      "Successfuly loaded: RDPG Buffer\n",
      "Buffer length loaded: 20\n"
     ]
    }
   ],
   "source": [
    "memory = ReplayBufferTrace(20, trace_length, save_dir)\n",
    "memory.load_pickle()"
   ]
  },
  {
   "cell_type": "code",
   "execution_count": 4,
   "metadata": {
    "collapsed": false
   },
   "outputs": [
    {
     "name": "stdout",
     "output_type": "stream",
     "text": [
      "20\n"
     ]
    }
   ],
   "source": [
    "episode = []\n",
    "for i in range(10):\n",
    "    experience = [i, 3, 3, 3, 3, 3]\n",
    "    episode.append(experience)\n",
    "    \n",
    "memory.add(episode)\n",
    "print(memory.count)"
   ]
  },
  {
   "cell_type": "code",
   "execution_count": 4,
   "metadata": {
    "collapsed": false
   },
   "outputs": [
    {
     "ename": "AssertionError",
     "evalue": "Trace can not be longer than episode!",
     "output_type": "error",
     "traceback": [
      "\u001b[0;31m---------------------------------------------------------------------------\u001b[0m",
      "\u001b[0;31mAssertionError\u001b[0m                            Traceback (most recent call last)",
      "\u001b[0;32m<ipython-input-4-b60fd3ad6947>\u001b[0m in \u001b[0;36m<module>\u001b[0;34m()\u001b[0m\n\u001b[0;32m----> 1\u001b[0;31m \u001b[0mmemory\u001b[0m\u001b[0;34m.\u001b[0m\u001b[0msample_batch\u001b[0m\u001b[0;34m(\u001b[0m\u001b[0;36m5\u001b[0m\u001b[0;34m)\u001b[0m\u001b[0;34m\u001b[0m\u001b[0m\n\u001b[0m",
      "\u001b[0;32m/home/camilog/Documents/Git_Repo/PreonLabWrapper/utils/replay_buffer_trace.py\u001b[0m in \u001b[0;36msample_batch\u001b[0;34m(self, batch_size)\u001b[0m\n\u001b[1;32m     39\u001b[0m             \u001b[0mbatch\u001b[0m \u001b[0;34m=\u001b[0m \u001b[0mrandom\u001b[0m\u001b[0;34m.\u001b[0m\u001b[0msample\u001b[0m\u001b[0;34m(\u001b[0m\u001b[0mself\u001b[0m\u001b[0;34m.\u001b[0m\u001b[0mbuffer\u001b[0m\u001b[0;34m,\u001b[0m \u001b[0mbatch_size\u001b[0m\u001b[0;34m)\u001b[0m\u001b[0;34m\u001b[0m\u001b[0m\n\u001b[1;32m     40\u001b[0m \u001b[0;34m\u001b[0m\u001b[0m\n\u001b[0;32m---> 41\u001b[0;31m         \u001b[0;32massert\u001b[0m \u001b[0;34m(\u001b[0m\u001b[0mself\u001b[0m\u001b[0;34m.\u001b[0m\u001b[0mtrace_length\u001b[0m \u001b[0;34m<=\u001b[0m \u001b[0mlen\u001b[0m\u001b[0;34m(\u001b[0m\u001b[0mbatch\u001b[0m\u001b[0;34m[\u001b[0m\u001b[0;36m0\u001b[0m\u001b[0;34m]\u001b[0m\u001b[0;34m[\u001b[0m\u001b[0;36m0\u001b[0m\u001b[0;34m]\u001b[0m\u001b[0;34m)\u001b[0m\u001b[0;34m)\u001b[0m\u001b[0;34m,\u001b[0m\u001b[0;34m\"Trace can not be longer than episode!\"\u001b[0m\u001b[0;34m\u001b[0m\u001b[0m\n\u001b[0m\u001b[1;32m     42\u001b[0m \u001b[0;34m\u001b[0m\u001b[0m\n\u001b[1;32m     43\u001b[0m         \u001b[0msampledTraces\u001b[0m \u001b[0;34m=\u001b[0m \u001b[0;34m[\u001b[0m\u001b[0;34m]\u001b[0m\u001b[0;34m\u001b[0m\u001b[0m\n",
      "\u001b[0;31mAssertionError\u001b[0m: Trace can not be longer than episode!"
     ]
    }
   ],
   "source": [
    "memory.sample_batch(5)"
   ]
  },
  {
   "cell_type": "code",
   "execution_count": 1,
   "metadata": {
    "collapsed": true
   },
   "outputs": [],
   "source": [
    "import gym\n",
    "import numpy as np\n",
    "import tensorflow as tf\n",
    "import tflearn"
   ]
  },
  {
   "cell_type": "code",
   "execution_count": 2,
   "metadata": {
    "collapsed": true
   },
   "outputs": [],
   "source": [
    "state_dim = 9\n",
    "goal_dim = 2\n",
    "action_dim = 3"
   ]
  },
  {
   "cell_type": "code",
   "execution_count": 3,
   "metadata": {
    "collapsed": true
   },
   "outputs": [],
   "source": [
    "state_trace_input = tf.placeholder(\"float\", [None, None, state_dim])\n",
    "goal_trace_input = tf.placeholder(\"float\", [None, None, goal_dim])\n",
    "action_trace_input = tf.placeholder(\"float\", [None, None, action_dim])"
   ]
  },
  {
   "cell_type": "code",
   "execution_count": 4,
   "metadata": {
    "collapsed": false
   },
   "outputs": [
    {
     "name": "stdout",
     "output_type": "stream",
     "text": [
      "Tensor(\"Placeholder:0\", shape=(?, ?, 9), dtype=float32) Tensor(\"Placeholder_1:0\", shape=(?, ?, 2), dtype=float32) Tensor(\"Placeholder_2:0\", shape=(?, ?, 3), dtype=float32)\n"
     ]
    }
   ],
   "source": [
    "print(state_trace_input, goal_trace_input, action_trace_input)"
   ]
  },
  {
   "cell_type": "code",
   "execution_count": 5,
   "metadata": {
    "collapsed": false
   },
   "outputs": [
    {
     "name": "stdout",
     "output_type": "stream",
     "text": [
      "(?, ?, 1, 500) (?, ?, 1, 200)\n",
      "(?, ?, 1, 700)\n",
      "(?, ?, 700)\n",
      "Tensor(\"rnn/transpose:0\", shape=(?, ?, 100), dtype=float32) LSTMStateTuple(c=<tf.Tensor 'rnn/while/Exit_2:0' shape=(?, 100) dtype=float32>, h=<tf.Tensor 'rnn/while/Exit_3:0' shape=(?, 100) dtype=float32>)\n",
      "(?, ?, 1, 3)\n",
      "(?, ?, 3)\n"
     ]
    }
   ],
   "source": [
    "temp = tf.expand_dims(state_trace_input,-1)\n",
    "\n",
    "net_state = tflearn.layers.conv.conv_2d (temp, 500, [1, 9], padding='valid', activation='elu', bias=True, weights_init='uniform_scaling', regularizer='L2')\n",
    "\n",
    "goal = tf.expand_dims(goal_trace_input,-1)\n",
    "\n",
    "net_goal = tflearn.layers.conv.conv_2d (goal, 200, [1, goal_dim], padding='valid', activation='elu', bias=True, weights_init='uniform_scaling', regularizer='L2')\n",
    "\n",
    "print(net_state.get_shape(), net_goal.get_shape())\n",
    "\n",
    "layer2 = tf.concat([net_state, net_goal],axis=-1)\n",
    "\n",
    "print(layer2.get_shape())\n",
    "\n",
    "concat_net = tf.squeeze(input=layer2, axis=2)\n",
    "\n",
    "print(concat_net.get_shape())\n",
    "\n",
    "init_hidden_c = tflearn.input_data(shape=[None, 100])\n",
    "init_hidden_m = tflearn.input_data(shape=[None, 100])\n",
    "    \n",
    "\n",
    "cell = tf.nn.rnn_cell.BasicLSTMCell(100, state_is_tuple=True)\n",
    "init_state = tf.nn.rnn_cell.LSTMStateTuple(init_hidden_c, init_hidden_m)\n",
    "rnn_states, rnn_hidden_cm = tf.nn.dynamic_rnn(cell, concat_net, dtype=tf.float32, initial_state=init_state)\n",
    "\n",
    "print(rnn_states, rnn_hidden_cm)\n",
    "\n",
    "final = tflearn.layers.conv.conv_2d (tf.expand_dims(rnn_states,-1), action_dim, [1, 100], padding='valid', activation='tanh', bias=True, weights_init='uniform_scaling', regularizer='L2')\n",
    "\n",
    "print(final.get_shape())\n",
    "\n",
    "final = tf.squeeze(input=final, axis=2)\n",
    "\n",
    "print(final.get_shape())"
   ]
  },
  {
   "cell_type": "code",
   "execution_count": 6,
   "metadata": {
    "collapsed": false
   },
   "outputs": [
    {
     "data": {
      "text/plain": [
       "<tf.Tensor 'Mul:0' shape=(?, ?, 3) dtype=float32>"
      ]
     },
     "execution_count": 6,
     "metadata": {},
     "output_type": "execute_result"
    }
   ],
   "source": [
    "scaled_out = tf.multiply(final, [2, 2, 5])\n",
    "scaled_out"
   ]
  },
  {
   "cell_type": "code",
   "execution_count": 5,
   "metadata": {
    "collapsed": false
   },
   "outputs": [
    {
     "name": "stdout",
     "output_type": "stream",
     "text": [
      "(?, ?, 1, 500)\n",
      "(?, ?, 500)\n"
     ]
    }
   ],
   "source": [
    "Wf = tf.get_variable(\"Wf\", shape=[1, self.rnn_size, 1, self.action_dim], initializer=self.xav) # shape=[1, 1, LAYER3_SIZE, self.action_dim]\n",
    "bf = tf.get_variable(\"bf\", shape=[self.action_dim], initializer=self.xav)\n",
    "finals = tf.nn.tanh(tf.nn.bias_add( \\\n",
    "                tf.nn.conv2d(input=tf.expand_dims(rnn_states,-1), filter=Wf,strides=[1,1,1,1], padding='VALID'), \\\n",
    "                bias=bf))#input=layer3\n",
    "action_trace = tf.squeeze(finals,axis=2)"
   ]
  },
  {
   "cell_type": "code",
   "execution_count": 17,
   "metadata": {
    "collapsed": false
   },
   "outputs": [
    {
     "data": {
      "text/plain": [
       "<tf.Tensor 'Pad_1:0' shape=(?, ?, 14, 1) dtype=float32>"
      ]
     },
     "execution_count": 17,
     "metadata": {},
     "output_type": "execute_result"
    }
   ],
   "source": [
    "tf.pad(tf.expand_dims(state_trace_ridar, axis=-1), [[0,0],[0,0],[2,2],[0,0]])"
   ]
  },
  {
   "cell_type": "code",
   "execution_count": 7,
   "metadata": {
    "collapsed": false
   },
   "outputs": [
    {
     "data": {
      "text/plain": [
       "<tf.Tensor 'Pad_1:0' shape=(?, ?, 14, 1) dtype=float32>"
      ]
     },
     "execution_count": 7,
     "metadata": {},
     "output_type": "execute_result"
    }
   ],
   "source": [
    "tf.pad(tf.expand_dims(state_trace_ridar, axis=-1), [[0,0],[0,0],[2,2],[0,0]])"
   ]
  },
  {
   "cell_type": "code",
   "execution_count": 11,
   "metadata": {
    "collapsed": false
   },
   "outputs": [
    {
     "data": {
      "text/plain": [
       "<tf.Variable 'W1_agent:0' shape=(1, 14, 1, 2) dtype=float32_ref>"
      ]
     },
     "execution_count": 11,
     "metadata": {},
     "output_type": "execute_result"
    }
   ],
   "source": [
    "W1_agent"
   ]
  },
  {
   "cell_type": "code",
   "execution_count": 10,
   "metadata": {
    "collapsed": false
   },
   "outputs": [
    {
     "data": {
      "text/plain": [
       "<tf.Tensor 'ExpandDims_2:0' shape=(10, 5, 14, 1) dtype=float32>"
      ]
     },
     "execution_count": 10,
     "metadata": {},
     "output_type": "execute_result"
    }
   ],
   "source": [
    "tf.expand_dims(state_trace_agent,-1)"
   ]
  },
  {
   "cell_type": "code",
   "execution_count": 8,
   "metadata": {
    "collapsed": false
   },
   "outputs": [
    {
     "data": {
      "text/plain": [
       "20.0"
      ]
     },
     "execution_count": 8,
     "metadata": {},
     "output_type": "execute_result"
    }
   ],
   "source": [
    "20.5 // 1"
   ]
  },
  {
   "cell_type": "code",
   "execution_count": 12,
   "metadata": {
    "collapsed": true
   },
   "outputs": [],
   "source": [
    "A = tf.placeholder(\"float\", [100, 10, 2])"
   ]
  },
  {
   "cell_type": "code",
   "execution_count": 14,
   "metadata": {
    "collapsed": false
   },
   "outputs": [
    {
     "data": {
      "text/plain": [
       "<tf.Tensor 'strided_slice_2:0' shape=(100, 2) dtype=float32>"
      ]
     },
     "execution_count": 14,
     "metadata": {},
     "output_type": "execute_result"
    }
   ],
   "source": [
    "A[:,-1,:]"
   ]
  },
  {
   "cell_type": "code",
   "execution_count": null,
   "metadata": {
    "collapsed": true
   },
   "outputs": [],
   "source": []
  }
 ],
 "metadata": {
  "kernelspec": {
   "display_name": "Python 3",
   "language": "python",
   "name": "python3"
  },
  "language_info": {
   "codemirror_mode": {
    "name": "ipython",
    "version": 3
   },
   "file_extension": ".py",
   "mimetype": "text/x-python",
   "name": "python",
   "nbconvert_exporter": "python",
   "pygments_lexer": "ipython3",
   "version": "3.5.3"
  }
 },
 "nbformat": 4,
 "nbformat_minor": 1
}
