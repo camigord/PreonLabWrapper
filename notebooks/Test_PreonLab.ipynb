{
 "cells": [
  {
   "cell_type": "code",
   "execution_count": 1,
   "metadata": {
    "collapsed": false
   },
   "outputs": [],
   "source": [
    "import sys\n",
    "\n",
    "sys.path.insert(0,'..')"
   ]
  },
  {
   "cell_type": "code",
   "execution_count": 2,
   "metadata": {
    "collapsed": false
   },
   "outputs": [],
   "source": [
    "from env.preon_env import Preon_env\n",
    "from debug_param import Options"
   ]
  },
  {
   "cell_type": "code",
   "execution_count": 3,
   "metadata": {
    "collapsed": false
   },
   "outputs": [],
   "source": [
    "opt = Options()\n",
    "env = Preon_env(opt.env_params)"
   ]
  },
  {
   "cell_type": "markdown",
   "metadata": {},
   "source": [
    "### Reset"
   ]
  },
  {
   "cell_type": "code",
   "execution_count": 4,
   "metadata": {
    "collapsed": false
   },
   "outputs": [
    {
     "name": "stdout",
     "output_type": "stream",
     "text": [
      "Started simulation from frame 0 to frame 2 with 8 thread(s).\n",
      "Done simulating  2  frames.\n",
      "((0.0, 0.20000000000000001, -1.0, -1.0, -1.0), (468.0, 468.0, 468.0))\n"
     ]
    }
   ],
   "source": [
    "state, info = env.reset()\n",
    "print(state, info)"
   ]
  },
  {
   "cell_type": "code",
   "execution_count": 6,
   "metadata": {
    "collapsed": false
   },
   "outputs": [
    {
     "data": {
      "text/plain": [
       "(array([  0.,  12.]), 0.0, array([ 10.,   0.]), 0.0)"
      ]
     },
     "execution_count": 6,
     "metadata": {},
     "output_type": "execute_result"
    }
   ],
   "source": [
    "env.env.get_cups_location()"
   ]
  },
  {
   "cell_type": "code",
   "execution_count": 7,
   "metadata": {
    "collapsed": false
   },
   "outputs": [
    {
     "data": {
      "text/plain": [
       "0.4"
      ]
     },
     "execution_count": 7,
     "metadata": {},
     "output_type": "execute_result"
    }
   ],
   "source": [
    "env.env.current_time"
   ]
  },
  {
   "cell_type": "code",
   "execution_count": 10,
   "metadata": {
    "collapsed": false
   },
   "outputs": [
    {
     "name": "stdout",
     "output_type": "stream",
     "text": [
      "Started simulation from frame 3 to frame 4 with 8 thread(s).\n",
      "Done simulating  1  frames.\n",
      "('State: ', [0.0, 0.40000000000000002, -0.88888888888888884, 0.0, 1.0, 1.0, -1.0, -1.0])\n",
      "('Reward: ', -1.0)\n",
      "('Done: ', False)\n",
      "('Info: ', (468.0, 468.0, 468.0))\n",
      "('Time: ', 0.8)\n",
      "('Step: ', 2)\n"
     ]
    }
   ],
   "source": [
    "import numpy as np\n",
    "action = np.array([0.0, 1.0, 1.0])\n",
    "goal = np.array([-0.8, -1.0])\n",
    "state, reward, done, info = env.step(action, goal)\n",
    "print('State: ', state)\n",
    "print('Reward: ', reward)\n",
    "print('Done: ', done)\n",
    "print('Info: ', info)\n",
    "print('Time: ', env.env.current_time)\n",
    "print('Step: ', env.current_step)"
   ]
  },
  {
   "cell_type": "code",
   "execution_count": 11,
   "metadata": {
    "collapsed": false
   },
   "outputs": [
    {
     "data": {
      "text/plain": [
       "(array([  0.,  14.]), 20.0, array([ 10.,   0.]), 0.0)"
      ]
     },
     "execution_count": 11,
     "metadata": {},
     "output_type": "execute_result"
    }
   ],
   "source": [
    "env.env.get_cups_location()"
   ]
  },
  {
   "cell_type": "code",
   "execution_count": 17,
   "metadata": {
    "collapsed": false
   },
   "outputs": [],
   "source": [
    "import os\n",
    "env.save_scene(os.getcwd()+'/test1.prscene')"
   ]
  },
  {
   "cell_type": "code",
   "execution_count": null,
   "metadata": {
    "collapsed": true
   },
   "outputs": [],
   "source": []
  }
 ],
 "metadata": {
  "kernelspec": {
   "display_name": "Python 2",
   "language": "python",
   "name": "python2"
  },
  "language_info": {
   "codemirror_mode": {
    "name": "ipython",
    "version": 2
   },
   "file_extension": ".py",
   "mimetype": "text/x-python",
   "name": "python",
   "nbconvert_exporter": "python",
   "pygments_lexer": "ipython2",
   "version": "2.7.13"
  }
 },
 "nbformat": 4,
 "nbformat_minor": 0
}
