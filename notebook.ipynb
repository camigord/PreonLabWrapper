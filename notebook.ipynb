{
 "cells": [
  {
   "cell_type": "code",
   "execution_count": 1,
   "metadata": {
    "collapsed": true
   },
   "outputs": [],
   "source": [
    "import preonpy\n",
    "import numpy as np"
   ]
  },
  {
   "cell_type": "code",
   "execution_count": 10,
   "metadata": {
    "collapsed": false
   },
   "outputs": [
    {
     "data": {
      "text/plain": [
       "'/home/camilog/Documents/Git_Repo/PreonLabWrapper'"
      ]
     },
     "execution_count": 10,
     "metadata": {},
     "output_type": "execute_result"
    }
   ],
   "source": [
    "import os\n",
    "os.getcwd()"
   ]
  },
  {
   "cell_type": "markdown",
   "metadata": {},
   "source": [
    "\n",
    "## Load Scene:"
   ]
  },
  {
   "cell_type": "code",
   "execution_count": 2,
   "metadata": {
    "collapsed": false
   },
   "outputs": [],
   "source": [
    "preonpy.show_progressbar = False\n",
    "s = preonpy.Scene(\"scene1.prscene\")\n",
    "#s = preonpy.Scene(\"test1.prscene\")"
   ]
  },
  {
   "cell_type": "code",
   "execution_count": 3,
   "metadata": {
    "collapsed": false
   },
   "outputs": [
    {
     "name": "stdout",
     "output_type": "stream",
     "text": [
      "0.0\n"
     ]
    }
   ],
   "source": [
    "s.reset_simulationdata()\n",
    "print(s.elapsed_time)"
   ]
  },
  {
   "cell_type": "markdown",
   "metadata": {},
   "source": [
    "## Get reference to required objects:"
   ]
  },
  {
   "cell_type": "code",
   "execution_count": 3,
   "metadata": {
    "collapsed": true
   },
   "outputs": [],
   "source": [
    "solver = s.find_object(\"PreonSolver_1\")\n",
    "sensor1 = s.find_object(\"Sensor_Cup1\")\n",
    "sensor2 = s.find_object(\"Sensor_Cup2\")\n",
    "cup1 = s.find_object(\"Cup1\")\n",
    "cup2 = s.find_object(\"Cup2\")\n",
    "Box = s.find_object(\"BoxDomain_1\")"
   ]
  },
  {
   "cell_type": "code",
   "execution_count": 8,
   "metadata": {
    "collapsed": false
   },
   "outputs": [
    {
     "name": "stdout",
     "output_type": "stream",
     "text": [
      "[  0.   0.  12.]\n"
     ]
    }
   ],
   "source": [
    "init_pos = np.round(np.array(cup1.__getitem__(\"position\"))  *100, decimals = 2)\n",
    "print(init_pos)"
   ]
  },
  {
   "cell_type": "markdown",
   "metadata": {},
   "source": [
    "## Simulate:"
   ]
  },
  {
   "cell_type": "code",
   "execution_count": 9,
   "metadata": {
    "collapsed": false
   },
   "outputs": [
    {
     "name": "stdout",
     "output_type": "stream",
     "text": [
      "Started simulation from frame 0 to frame 2 with 8 thread(s).\n",
      "Done simulating  2  frames.\n",
      "0.4\n"
     ]
    }
   ],
   "source": [
    "# Simulation time in seconds\n",
    "start_time = 0\n",
    "end_time = 2\n",
    "s.simulate(start_time, end_time)\n",
    "print(s.elapsed_time)"
   ]
  },
  {
   "cell_type": "code",
   "execution_count": 10,
   "metadata": {
    "collapsed": false
   },
   "outputs": [
    {
     "name": "stdout",
     "output_type": "stream",
     "text": [
      "(10.0, 10.0)\n"
     ]
    }
   ],
   "source": [
    "d, z = np.round(np.array(cup1.__getitem__(\"scale\"))*100,decimals=2)[[0,2]]\n",
    "print(d,z)"
   ]
  },
  {
   "cell_type": "code",
   "execution_count": 7,
   "metadata": {
    "collapsed": false
   },
   "outputs": [
    {
     "data": {
      "text/plain": [
       "Vec3(x=0.10000000149011612, y=0.10000000149011612, z=0.10000000149011612)"
      ]
     },
     "execution_count": 7,
     "metadata": {},
     "output_type": "execute_result"
    }
   ],
   "source": [
    "cup1.__getitem__(\"scale\")"
   ]
  },
  {
   "cell_type": "code",
   "execution_count": 4,
   "metadata": {
    "collapsed": true
   },
   "outputs": [],
   "source": [
    "def simulate_frame():\n",
    "    time_step = 0.001\n",
    "    frame_rate = 5.0\n",
    "    num_steps = int((1/frame_rate) / time_step)\n",
    "    for i in range(num_steps):\n",
    "        s.simulate_step()"
   ]
  },
  {
   "cell_type": "code",
   "execution_count": 8,
   "metadata": {
    "collapsed": false
   },
   "outputs": [
    {
     "name": "stdout",
     "output_type": "stream",
     "text": [
      "Warning: \"PreonSolver_1\" : Cannot load  \"/home/camilog/Documents/Git_Repo/PreonLabWrapper/scene1/SimData/FluidData/PreonSolver_1/000002.prstate\"\n",
      "0.4\n",
      "0.0\n",
      "0.0\n"
     ]
    }
   ],
   "source": [
    "print(s.elapsed_time)\n",
    "print(sensor1.get_statistic('Volume',s.elapsed_time))\n",
    "print(sensor2.get_statistic('Volume',s.elapsed_time))"
   ]
  },
  {
   "cell_type": "markdown",
   "metadata": {},
   "source": [
    "## Set trajectories:"
   ]
  },
  {
   "cell_type": "code",
   "execution_count": 4,
   "metadata": {
    "collapsed": false
   },
   "outputs": [],
   "source": [
    "position_keyframes = [(0, 0.0, \"Linear\"), (0.5, 0.0, \"Linear\"), (1, 15.0, \"Linear\"), (2, 60.0, \"Linear\"), (4, 60.0, \"Linear\"), (6, 0.0, \"Linear\")]\n",
    "sensor1.set_keyframes(\"euler angles theta\", position_keyframes)\n",
    "cup1.set_keyframes(\"euler angles theta\", position_keyframes)"
   ]
  },
  {
   "cell_type": "code",
   "execution_count": 6,
   "metadata": {
    "collapsed": false,
    "scrolled": true
   },
   "outputs": [
    {
     "name": "stdout",
     "output_type": "stream",
     "text": [
      "0.0\n",
      "0.00045458128443\n",
      "0.0\n"
     ]
    }
   ],
   "source": [
    "'''num_frames = 30\n",
    "for i in range(num_frames):\n",
    "    simulate_frame()\n",
    "    '''\n",
    "print(s.elapsed_time)\n",
    "print(sensor1.get_statistic('Volume',s.elapsed_time))\n",
    "print(sensor2.get_statistic('Volume',s.elapsed_time))"
   ]
  },
  {
   "cell_type": "markdown",
   "metadata": {},
   "source": [
    "## Save scene for debugging:"
   ]
  },
  {
   "cell_type": "code",
   "execution_count": 6,
   "metadata": {
    "collapsed": false
   },
   "outputs": [],
   "source": [
    "s.save(\"/home/camilog/Documents/Git_Repo/PreonLabWrapper/test1.prscene\")"
   ]
  },
  {
   "cell_type": "code",
   "execution_count": 5,
   "metadata": {
    "collapsed": false
   },
   "outputs": [
    {
     "name": "stdout",
     "output_type": "stream",
     "text": [
      "0.2\n",
      "0.4\n",
      "0.6\n",
      "0.8\n",
      "1.0\n",
      "1.2\n",
      "1.4\n",
      "1.6\n",
      "1.8\n",
      "2.0\n",
      "2.2\n",
      "2.4\n",
      "2.6\n",
      "2.8\n",
      "3.0\n",
      "3.2\n",
      "3.4\n",
      "3.6\n",
      "3.8\n",
      "4.0\n",
      "4.2\n",
      "4.4\n",
      "4.6\n",
      "4.8\n",
      "5.0\n",
      "5.2\n",
      "5.4\n",
      "5.6\n",
      "5.8\n",
      "6.0\n",
      "0.00029168027686\n",
      "0.000138000003062\n"
     ]
    }
   ],
   "source": [
    "steps = 30\n",
    "\n",
    "angle = 0.0\n",
    "position_keyframes = [(0.0, angle, \"Linear\")]\n",
    "sensor1.set_keyframes(\"euler angles theta\", position_keyframes)\n",
    "cup1.set_keyframes(\"euler angles theta\", position_keyframes)\n",
    "\n",
    "s1 = [0]\n",
    "s2 = [0]\n",
    "for step in range(steps):\n",
    "    simulate_frame()\n",
    "    print(s.elapsed_time)\n",
    "    s1.append(sensor1.get_statistic('Volume',s.elapsed_time))\n",
    "    s2.append(sensor2.get_statistic('Volume',s.elapsed_time))\n",
    "    #elapsed_time = (step+1) * 0.2\n",
    "    \n",
    "    time = s.elapsed_time\n",
    "    if step == 4:\n",
    "        position_keyframes.append((time,0.0,\"Linear\"))\n",
    "        position_keyframes.append((time+1.0,15.0,\"Linear\"))\n",
    "        sensor1.set_keyframes(\"euler angles theta\", position_keyframes)\n",
    "        cup1.set_keyframes(\"euler angles theta\", position_keyframes)\n",
    "    if step == 9:\n",
    "        position_keyframes.append((time+1.0,60.0,\"Linear\"))\n",
    "        sensor1.set_keyframes(\"euler angles theta\", position_keyframes)\n",
    "        cup1.set_keyframes(\"euler angles theta\", position_keyframes)\n",
    "    if step == 14:\n",
    "        position_keyframes.append((time+1.0,70.0,\"Linear\"))\n",
    "        sensor1.set_keyframes(\"euler angles theta\", position_keyframes)\n",
    "        cup1.set_keyframes(\"euler angles theta\", position_keyframes)\n",
    "    if step == 19:\n",
    "        position_keyframes.append((time+1.0,40.0,\"Linear\"))\n",
    "        sensor1.set_keyframes(\"euler angles theta\", position_keyframes)\n",
    "        cup1.set_keyframes(\"euler angles theta\", position_keyframes)\n",
    "    if step == 24:\n",
    "        position_keyframes.append((time+1.0,10.0,\"Linear\"))\n",
    "        sensor1.set_keyframes(\"euler angles theta\", position_keyframes)\n",
    "        cup1.set_keyframes(\"euler angles theta\", position_keyframes)\n",
    "        \n",
    "    \n",
    "print(sensor1.get_statistic('Volume',s.elapsed_time))\n",
    "print(sensor2.get_statistic('Volume',s.elapsed_time))"
   ]
  },
  {
   "cell_type": "code",
   "execution_count": null,
   "metadata": {
    "collapsed": true
   },
   "outputs": [],
   "source": [
    "position_keyframes"
   ]
  }
 ],
 "metadata": {
  "kernelspec": {
   "display_name": "Python 2",
   "language": "python",
   "name": "python2"
  },
  "language_info": {
   "codemirror_mode": {
    "name": "ipython",
    "version": 2
   },
   "file_extension": ".py",
   "mimetype": "text/x-python",
   "name": "python",
   "nbconvert_exporter": "python",
   "pygments_lexer": "ipython2",
   "version": "2.7.13"
  }
 },
 "nbformat": 4,
 "nbformat_minor": 2
}
